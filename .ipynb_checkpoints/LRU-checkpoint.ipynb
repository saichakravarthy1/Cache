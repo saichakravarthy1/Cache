{
 "cells": [
  {
   "cell_type": "code",
   "execution_count": null,
   "metadata": {
    "collapsed": true
   },
   "outputs": [],
   "source": [
    "class LRUCache:\n",
    "    class Node:\n",
    "        def __init__(self,key,value):\n",
    "            self.prev = None\n",
    "            self.key = key\n",
    "            self.value = value\n",
    "            self.next = None\n",
    "            \n",
    "    def __init__(self,size):\n",
    "        self.capacity = size\n",
    "        self.dict = {}\n",
    "        self.head,self.tail = Node(self,'head','head'),Node(self,'tail','tail')\n",
    "        self.head.next = self.tail\n",
    "        self.tail.prev = self.head\n",
    "        \n",
    "    def get(self,key):\n",
    "        if key not in self.dict:\n",
    "            return -1\n",
    "        else:\n",
    "            self.insetNodeAtFirst(unlinkNode(self.dict[key]))\n",
    "            return self.dict[key].value\n",
    "        \n",
    "    def set(self,key,value):\n",
    "        if key in self.dict:\n",
    "            self.insertNodeAtFist(unlinkNode(self.dict[key]))\n",
    "            return self.dict[key].value\n",
    "        else if len(self.dict) <= self.capacity:\n",
    "            del self.dict(self.unlinkNode(self.tail.prev).key)   \n",
    "        self.dict[key] = Node(self,key,value)\n",
    "        self.insertNodeAtFist(self.dict[key])\n",
    "        \n",
    "    def insertNodeAtFirst(self,Node):\n",
    "        self.Node.prev = self.head\n",
    "        self.Node.next = self.head.next\n",
    "        self.head.next = self.node\n",
    "        \n",
    "    def unlinkNode(self,Node):\n",
    "        Node.prev.next = Node.next\n",
    "        Node.next.prev = Node.prev\n",
    "        Node.prev = None\n",
    "        Node.next = None"
   ]
  }
 ],
 "metadata": {
  "kernelspec": {
   "display_name": "Python 3",
   "language": "python",
   "name": "python3"
  },
  "language_info": {
   "codemirror_mode": {
    "name": "ipython",
    "version": 3
   },
   "file_extension": ".py",
   "mimetype": "text/x-python",
   "name": "python",
   "nbconvert_exporter": "python",
   "pygments_lexer": "ipython3",
   "version": "3.6.1"
  }
 },
 "nbformat": 4,
 "nbformat_minor": 2
}
